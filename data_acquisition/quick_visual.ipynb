{
 "cells": [
  {
   "cell_type": "code",
   "execution_count": null,
   "id": "e422f4f8",
   "metadata": {},
   "outputs": [],
   "source": [
    "import pandas as pd\n",
    "import matplotlib.pyplot as plt"
   ]
  },
  {
   "cell_type": "code",
   "execution_count": null,
   "id": "b9cc7788",
   "metadata": {},
   "outputs": [],
   "source": [
    "# Path to your CSV file\n",
    "csv_path = './test1.csv'\n",
    "\n",
    "# Read the CSV file\n",
    "df = pd.read_csv(csv_path)\n",
    "\n",
    "# Extract columns\n",
    "time = df['time'] - df['time'][0]  # Start time at zero for clarity\n",
    "torque = df['torque']\n",
    "angle = df['joint_angle']\n",
    "\n",
    "# Create the plot\n",
    "fig, ax1 = plt.subplots()\n",
    "\n",
    "color = 'tab:blue'\n",
    "ax1.set_xlabel('Time [s]')\n",
    "ax1.set_ylabel('Torque [Nm]', color=color)\n",
    "ax1.plot(time, torque, color=color, label='Torque')\n",
    "ax1.tick_params(axis='y', labelcolor=color)\n",
    "ax1.legend(loc='upper left')\n",
    "\n",
    "ax2 = ax1.twinx()  # instantiate a second axes that shares the same x-axis\n",
    "\n",
    "color = 'tab:red'\n",
    "ax2.set_ylabel('Joint Angle [rad]', color=color)\n",
    "ax2.plot(time, angle, color=color, label='Joint Angle')\n",
    "ax2.tick_params(axis='y', labelcolor=color)\n",
    "ax2.legend(loc='upper right')\n",
    "\n",
    "plt.title('Torque and Joint Angle vs Time')\n",
    "plt.tight_layout()\n",
    "plt.show()"
   ]
  }
 ],
 "metadata": {
  "kernelspec": {
   "display_name": "Python 3",
   "language": "python",
   "name": "python3"
  },
  "language_info": {
   "name": "python",
   "version": "3.10.12"
  }
 },
 "nbformat": 4,
 "nbformat_minor": 5
}
